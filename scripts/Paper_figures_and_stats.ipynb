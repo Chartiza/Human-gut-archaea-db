{
 "cells": [
  {
   "cell_type": "code",
   "execution_count": 1,
   "metadata": {},
   "outputs": [],
   "source": [
    "# import packages\n",
    "import matplotlib.pyplot as plt\n",
    "import seaborn as sns\n",
    "import pandas as pd\n",
    "import plotly.express as px\n",
    "import plotly.graph_objects as go\n",
    "import plotly.express as px\n",
    "from matplotlib.sankey import Sankey"
   ]
  },
  {
   "attachments": {},
   "cell_type": "markdown",
   "metadata": {},
   "source": [
    "## Read the data"
   ]
  },
  {
   "cell_type": "code",
   "execution_count": 2,
   "metadata": {},
   "outputs": [
    {
     "data": {
      "text/html": [
       "<div>\n",
       "<style scoped>\n",
       "    .dataframe tbody tr th:only-of-type {\n",
       "        vertical-align: middle;\n",
       "    }\n",
       "\n",
       "    .dataframe tbody tr th {\n",
       "        vertical-align: top;\n",
       "    }\n",
       "\n",
       "    .dataframe thead th {\n",
       "        text-align: right;\n",
       "    }\n",
       "</style>\n",
       "<table border=\"1\" class=\"dataframe\">\n",
       "  <thead>\n",
       "    <tr style=\"text-align: right;\">\n",
       "      <th></th>\n",
       "      <th>MAG_name</th>\n",
       "      <th>MAG_ID</th>\n",
       "      <th>MAG_quality</th>\n",
       "      <th>Completeness</th>\n",
       "      <th>Contamination</th>\n",
       "      <th>domain</th>\n",
       "      <th>phylum</th>\n",
       "      <th>class</th>\n",
       "      <th>order</th>\n",
       "      <th>family</th>\n",
       "      <th>...</th>\n",
       "      <th>Contigs_number</th>\n",
       "      <th>Average_contigs_length</th>\n",
       "      <th>N50</th>\n",
       "      <th>GC(%)</th>\n",
       "      <th>CDS</th>\n",
       "      <th>Hypothetical_protein_numb</th>\n",
       "      <th>Hypothetical_protein_perc</th>\n",
       "      <th>tRNA</th>\n",
       "      <th>crispr</th>\n",
       "      <th>Annotation_depth_perc</th>\n",
       "    </tr>\n",
       "  </thead>\n",
       "  <tbody>\n",
       "    <tr>\n",
       "      <th>0</th>\n",
       "      <td>VPNE3S_metabat.151.fa</td>\n",
       "      <td>EST-A-0001</td>\n",
       "      <td>HQ</td>\n",
       "      <td>99.59</td>\n",
       "      <td>2.23</td>\n",
       "      <td>Archaea</td>\n",
       "      <td>Thermoplasmatota</td>\n",
       "      <td>Thermoplasmata</td>\n",
       "      <td>Methanomassiliicoccales</td>\n",
       "      <td>Methanomassiliicoccaceae</td>\n",
       "      <td>...</td>\n",
       "      <td>26</td>\n",
       "      <td>75196.9</td>\n",
       "      <td>99580</td>\n",
       "      <td>62.67</td>\n",
       "      <td>1995</td>\n",
       "      <td>1114</td>\n",
       "      <td>55.839599</td>\n",
       "      <td>35</td>\n",
       "      <td>1</td>\n",
       "      <td>44.160401</td>\n",
       "    </tr>\n",
       "    <tr>\n",
       "      <th>1</th>\n",
       "      <td>VOHZH4_maxbin.056.fa</td>\n",
       "      <td>EST-A-0002</td>\n",
       "      <td>HQ</td>\n",
       "      <td>100.00</td>\n",
       "      <td>3.00</td>\n",
       "      <td>Archaea</td>\n",
       "      <td>Thermoplasmatota</td>\n",
       "      <td>Thermoplasmata</td>\n",
       "      <td>Methanomassiliicoccales</td>\n",
       "      <td>Methanomassiliicoccaceae</td>\n",
       "      <td>...</td>\n",
       "      <td>37</td>\n",
       "      <td>64742.7</td>\n",
       "      <td>629146</td>\n",
       "      <td>58.95</td>\n",
       "      <td>2437</td>\n",
       "      <td>1476</td>\n",
       "      <td>60.566270</td>\n",
       "      <td>38</td>\n",
       "      <td>2</td>\n",
       "      <td>39.433730</td>\n",
       "    </tr>\n",
       "  </tbody>\n",
       "</table>\n",
       "<p>2 rows × 23 columns</p>\n",
       "</div>"
      ],
      "text/plain": [
       "                MAG_name      MAG_ID MAG_quality  Completeness  Contamination  \\\n",
       "0  VPNE3S_metabat.151.fa  EST-A-0001          HQ         99.59           2.23   \n",
       "1   VOHZH4_maxbin.056.fa  EST-A-0002          HQ        100.00           3.00   \n",
       "\n",
       "    domain            phylum           class                    order  \\\n",
       "0  Archaea  Thermoplasmatota  Thermoplasmata  Methanomassiliicoccales   \n",
       "1  Archaea  Thermoplasmatota  Thermoplasmata  Methanomassiliicoccales   \n",
       "\n",
       "                     family  ... Contigs_number Average_contigs_length  \\\n",
       "0  Methanomassiliicoccaceae  ...             26                75196.9   \n",
       "1  Methanomassiliicoccaceae  ...             37                64742.7   \n",
       "\n",
       "      N50  GC(%)   CDS  Hypothetical_protein_numb  Hypothetical_protein_perc  \\\n",
       "0   99580  62.67  1995                       1114                  55.839599   \n",
       "1  629146  58.95  2437                       1476                  60.566270   \n",
       "\n",
       "   tRNA  crispr  Annotation_depth_perc  \n",
       "0    35       1              44.160401  \n",
       "1    38       2              39.433730  \n",
       "\n",
       "[2 rows x 23 columns]"
      ]
     },
     "execution_count": 2,
     "metadata": {},
     "output_type": "execute_result"
    }
   ],
   "source": [
    "# read “EstMB MAGdb Archaea-273” MAGs collection data\n",
    "df = pd.read_excel('../input/pantiukh_SupplTables_S1.xlsx')\n",
    "# read “Archaea ESTrep-21” MAGs collection data\n",
    "rep = pd.read_excel('../input/pantiukh_SupplTables_S2.xlsx')\n",
    "\n",
    "df.head(2) "
   ]
  },
  {
   "cell_type": "code",
   "execution_count": null,
   "metadata": {},
   "outputs": [],
   "source": [
    "# input BGI \n",
    "path='/Users/katerynapantiukh/Documents/1MyDisk/PhD/!MAIN_data/'\n",
    "\n",
    "# smpls llist\n",
    "smpls = pd.read_excel(str(path)+'cohort_info/deep_cohort_smpls_list.xlsx', index_col=False)\n",
    "mtch = pd.read_excel(str(path)+'cohort_info/MB_scode_vcode.xlsx', index_col=False).drop(columns=['Unnamed: 2'])\n",
    "smpls = smpls.merge(mtch, left_on='smpls', right_on='vkood', how='inner')\n",
    "\n",
    "bgi = pd.read_csv(str(path)+'cohort_info/stats/ReadsNumb_BGI_fq1.csv', sep=' ')\n",
    "bgi['sample_name'] = bgi['sample_id'].str.split('_').str[1]\n",
    "bgi = bgi.sort_values(by=['reads_number_fq1'])\n",
    "bgi = bgi.merge(smpls, left_on='sample_name', right_on='smpls', how='right')\n",
    "\n",
    "# read meta data\n",
    "meta = pd.read_excel(str(path)+'pheno_description/EstMB_phenotype_data.xlsx', index_col=False)\n",
    "meta = meta.merge(smpls, on='skood', how='inner')\n",
    "metaC = meta[['gender', 'Age_at_MBsample', 'BMI']]\n",
    "\n",
    "# abud data\n",
    "abud = pd.read_excel(str(path)+'abud_tables/Archaea21_SpLevel_CoverM_rep_Illumina.csv')"
   ]
  },
  {
   "cell_type": "markdown",
   "metadata": {},
   "source": [
    "## Stats"
   ]
  },
  {
   "cell_type": "code",
   "execution_count": 24,
   "metadata": {},
   "outputs": [
    {
     "name": "stdout",
     "output_type": "stream",
     "text": [
      "NUmber of analised samples: 1878\n",
      "Number of MAGs: 273\n",
      "Number of species: 21\n"
     ]
    }
   ],
   "source": [
    "print('NUmber of analised samples:', len(smpls))\n",
    "print('Number of MAGs:', len(df))\n",
    "print('Number of species:', len(rep))"
   ]
  },
  {
   "cell_type": "code",
   "execution_count": 9,
   "metadata": {},
   "outputs": [
    {
     "data": {
      "text/plain": [
       "order\n",
       "Methanomassiliicoccales    18\n",
       "Methanobacteriales          3\n",
       "Name: count, dtype: int64"
      ]
     },
     "execution_count": 9,
     "metadata": {},
     "output_type": "execute_result"
    }
   ],
   "source": [
    "# Number of species belonged to the main orders\n",
    "rep.value_counts('order')"
   ]
  },
  {
   "cell_type": "code",
   "execution_count": null,
   "metadata": {},
   "outputs": [
    {
     "name": "stdout",
     "output_type": "stream",
     "text": [
      "Female: 1308 - 69.65 %\n",
      "Male: 570 - 30.35 %\n",
      "Mean age: 50.05 years\n",
      "Min-Max age: 23.0 - 89.0 years\n"
     ]
    }
   ],
   "source": [
    "# Cohort stats\n",
    "fem = len(meta[meta['gender'] == 1])\n",
    "male = len(meta[meta['gender'] == 0])\n",
    "print('Female:', fem,'-', round(fem/len(meta)*100, 2), '%')\n",
    "print('Male:', male,'-', round(male/len(meta)*100, 2), '%')\n",
    "print('Mean age:', round(meta['Age_at_MBsample'].mean(),2), 'years')\n",
    "print('Min-Max age:', meta['Age_at_MBsample'].min(), '-', meta['Age_at_MBsample'].max(), 'years')"
   ]
  },
  {
   "cell_type": "code",
   "execution_count": 23,
   "metadata": {},
   "outputs": [
    {
     "name": "stdout",
     "output_type": "stream",
     "text": [
      "Mean reads per smpl: 56072680.0\n",
      "Reads per smpls SD: 19448868.0\n"
     ]
    }
   ],
   "source": [
    "# Reads stats\n",
    "print('Mean reads per smpl:', round(bgi['reads_number_fq1'].mean(), 0))\n",
    "print('Reads per smpls SD:', round(bgi['reads_number_fq1'].std(), 0))"
   ]
  },
  {
   "cell_type": "code",
   "execution_count": 31,
   "metadata": {},
   "outputs": [
    {
     "name": "stdout",
     "output_type": "stream",
     "text": [
      "Annotation depth mean: 43.15 %\n",
      "Annotation depth min-max: 18.03 - 55.1 %\n"
     ]
    }
   ],
   "source": [
    "# Functional data stats\n",
    "print('Annotation depth mean:', round(df['Annotation_depth_perc'].mean(), 2), '%')\n",
    "print('Annotation depth min-max:', round(df['Annotation_depth_perc'].min(),2), '-', round(df['Annotation_depth_perc'].max(),2), '%')"
   ]
  },
  {
   "cell_type": "code",
   "execution_count": 11,
   "metadata": {},
   "outputs": [
    {
     "data": {
      "text/plain": [
       "genus\n",
       "Methanocatella    83\n",
       "Name: count, dtype: int64"
      ]
     },
     "execution_count": 11,
     "metadata": {},
     "output_type": "execute_result"
    }
   ],
   "source": [
    "# Number of species belonged to the Methanobacteriales order genera\n",
    "df[df['order'] == 'Methanobacteriales'].value_counts('genus')"
   ]
  },
  {
   "cell_type": "code",
   "execution_count": 10,
   "metadata": {},
   "outputs": [
    {
     "data": {
      "text/plain": [
       "genus\n",
       "Methanoprimaticola         118\n",
       "Methanomethylophilus        41\n",
       "Methanarcanum               15\n",
       "Methanomassiliicoccus_A     13\n",
       "DTU008                       3\n",
       "Name: count, dtype: int64"
      ]
     },
     "execution_count": 10,
     "metadata": {},
     "output_type": "execute_result"
    }
   ],
   "source": [
    "# Number of species belonged to the Methanomassiliicoccales order genera\n",
    "df[df['order'] == 'Methanomassiliicoccales'].value_counts('genus')"
   ]
  },
  {
   "cell_type": "code",
   "execution_count": 8,
   "metadata": {},
   "outputs": [
    {
     "name": "stdout",
     "output_type": "stream",
     "text": [
      "Median completeness is:  98.05\n",
      "Median contamination is:  0.52\n"
     ]
    }
   ],
   "source": [
    "# “EstMB MAGdb Archaea-273” MAGs collection completenss and contamination \n",
    "print('Median completeness is: ',df['Completeness'].median())\n",
    "print('Median contamination is: ',df['Contamination'].median())"
   ]
  },
  {
   "cell_type": "code",
   "execution_count": null,
   "metadata": {},
   "outputs": [
    {
     "name": "stdout",
     "output_type": "stream",
     "text": [
      "HQ MAGs: 16 - 76.19 %\n",
      "MQ MAGs: 5 - 23.81 % \n",
      "\n",
      "Median Completeness: 96.85 %, IQR: 91.49 - 98.39\n",
      "Median Contamination: 0.81 %, IQR: 0.0 - 1.61\n"
     ]
    }
   ],
   "source": [
    "# Sp. rep quality\n",
    "hqm = len(rep[rep['MAG_quality'] == 'HQ'])\n",
    "mqm = len(rep[rep['MAG_quality'] == 'MQ'])\n",
    "\n",
    "print('HQ MAGs:', hqm, '-', round(hqm/len(rep)*100, 2), '%')\n",
    "print('MQ MAGs:', mqm, '-', round(mqm/len(rep)*100, 2), '% \\n')\n",
    "\n",
    "print('Median Completeness:', rep['Completeness'].median(),'%,', 'IQR:', rep['Completeness'].quantile(0.25), '-', rep['Completeness'].quantile(0.75))\n",
    "print('Median Contamination:', rep['Contamination'].median(),'%,', 'IQR:', rep['Contamination'].quantile(0.25), '-', rep['Contamination'].quantile(0.75))"
   ]
  },
  {
   "cell_type": "code",
   "execution_count": null,
   "metadata": {},
   "outputs": [
    {
     "data": {
      "text/plain": [
       "91.49"
      ]
     },
     "execution_count": 43,
     "metadata": {},
     "output_type": "execute_result"
    }
   ],
   "source": [
    "# Number of assembled MAGs pe smpl\n"
   ]
  },
  {
   "cell_type": "markdown",
   "metadata": {},
   "source": [
    "## Figures"
   ]
  },
  {
   "cell_type": "code",
   "execution_count": 71,
   "metadata": {},
   "outputs": [
    {
     "data": {
      "image/png": "[encoded data removed]",
      "text/plain": [
       "<Figure size 500x500 with 1 Axes>"
      ]
     },
     "metadata": {},
     "output_type": "display_data"
    }
   ],
   "source": [
    "# create a pie chart\n",
    "plt.figure(figsize=(5, 5))\n",
    "plt.pie(rep['MAG_quality'].value_counts(), labels=['HQ','MQ'], autopct='%1.1f%%', startangle=90, colors=['#72b62b','#99CCCD'])\n",
    "\n",
    "plt.savefig('../results/Fig1b_Pie2.svg', bbox_inches='tight')\n",
    "#plt.savefig('../results/Fig1a_Pie2.png', bbox_inches='tight')"
   ]
  },
  {
   "cell_type": "code",
   "execution_count": 72,
   "metadata": {},
   "outputs": [
    {
     "data": {
      "image/png": "[encoded data removed]",
      "text/plain": [
       "<Figure size 500x300 with 1 Axes>"
      ]
     },
     "metadata": {},
     "output_type": "display_data"
    }
   ],
   "source": [
    "plt.figure(figsize=(5, 3))\n",
    "sns.set_theme(style=\"whitegrid\")\n",
    "#ax = sns.violinplot(x=\"Completeness\", data=rep, color='#f7fbfa', inner=None)\n",
    "ax = sns.swarmplot(x=\"Completeness\", data=rep, size=7, hue='MAG_quality', palette=['#72b62b','#99CCCD'])\n",
    "plt.legend(loc='lower left')\n",
    "\n",
    "plt.savefig('../results/Fig1c_Compl.svg', bbox_inches='tight')"
   ]
  },
  {
   "cell_type": "code",
   "execution_count": 74,
   "metadata": {},
   "outputs": [
    {
     "data": {
      "image/png": "[encoded data removed]",
      "text/plain": [
       "<Figure size 500x300 with 1 Axes>"
      ]
     },
     "metadata": {},
     "output_type": "display_data"
    }
   ],
   "source": [
    "plt.figure(figsize=(5, 3))\n",
    "sns.set_theme(style=\"whitegrid\")\n",
    "#ax = sns.violinplot(x=\"Completeness\", data=rep, color='#f7fbfa', inner=None)\n",
    "ax = sns.swarmplot(x=\"Contamination\", data=rep, size=7, hue='MAG_quality', palette=['#72b62b','#99CCCD'])\n",
    "plt.legend(loc='lower right')\n",
    "\n",
    "plt.savefig('../results/Fig1d_Cont.svg', bbox_inches='tight')"
   ]
  },
  {
   "cell_type": "code",
   "execution_count": null,
   "metadata": {},
   "outputs": [],
   "source": []
  },
  {
   "cell_type": "code",
   "execution_count": 33,
   "metadata": {},
   "outputs": [
    {
     "name": "stdout",
     "output_type": "stream",
     "text": [
      "Median CDS number is:  1677.5\n",
      "-- Median CDS number for Methanomassiliicoccales is:  1746.0\n",
      "-- Median CDS number for Methanobacteriales is:  1540.0 \n",
      "\n",
      "Median tRNA number is:  42.0\n",
      "-- Median tRNA number for Methanomassiliicoccales is:  43.0\n",
      "-- Median tRNA number for Methanobacteriales is:  31.0 \n",
      "\n",
      "Median hypotetical proteins percent is:  56.14087259157881\n",
      "-- Median hypotetical proteins percent for Methanomassiliicoccales is:  58.13672111312764\n",
      "-- Median hypotetical proteins percent for Methanobacteriales is:  50.96085409252669 \n",
      "\n"
     ]
    }
   ],
   "source": [
    "df_Methanomassiliicoccales = df[df['order'] == 'Methanomassiliicoccales']\n",
    "df_Methanobacteriales = df[df['order'] == 'Methanobacteriales']\n",
    "\n",
    "print('Median CDS number is: ',df['cds'].median())\n",
    "print('-- Median CDS number for Methanomassiliicoccales is: ',df_Methanomassiliicoccales['cds'].median())\n",
    "print('-- Median CDS number for Methanobacteriales is: ',df_Methanobacteriales['cds'].median(), '\\n')\n",
    "\n",
    "print('Median tRNA number is: ',df['tRNA'].median())\n",
    "print('-- Median tRNA number for Methanomassiliicoccales is: ',df_Methanomassiliicoccales['tRNA'].median())\n",
    "print('-- Median tRNA number for Methanobacteriales is: ',df_Methanobacteriales['tRNA'].median(), '\\n')\n",
    "\n",
    "print('Median hypotetical proteins percent is: ',df['hyp_perc'].median())\n",
    "print('-- Median hypotetical proteins percent for Methanomassiliicoccales is: ',df_Methanomassiliicoccales['hyp_perc'].median())\n",
    "print('-- Median hypotetical proteins percent for Methanobacteriales is: ',df_Methanobacteriales['hyp_perc'].median(), '\\n')"
   ]
  }
 ],
 "metadata": {
  "kernelspec": {
   "display_name": "base",
   "language": "python",
   "name": "python3"
  },
  "language_info": {
   "codemirror_mode": {
    "name": "ipython",
    "version": 3
   },
   "file_extension": ".py",
   "mimetype": "text/x-python",
   "name": "python",
   "nbconvert_exporter": "python",
   "pygments_lexer": "ipython3",
   "version": "3.9.13"
  }
 },
 "nbformat": 4,
 "nbformat_minor": 2
}
